{
 "cells": [
  {
   "cell_type": "markdown",
   "metadata": {},
   "source": [
    "# Image Classification with Microsoft AI Platform\n",
    "## Summary\n",
    "Image classification is among the most popular applications of deep learning. For example, the insurance company can classify the car accidents based on the photo of the damaged part and make decision whether the claim is valid or not. For manufacturing factories, they may inspect whether there is defect in the product based on the images. For this project, we will use the images from the parts of the vehicle to judge whether there is a defect with it, such as dents or scratches on the surface. Microsoft’s Azure cloud ecosystem provides the scalable, elastic and intelligent AI platform. We will demonstrate how to develop the end to end AI solution with Azure AI platform. The solution will include:\n",
    "\n",
    "- Image processing: process the images for feature extraction;\n",
    "- Deep learning model: building a CNN (Convolutional Neural Networks);\n",
    "- Model training: show how to create a CNN to train the model;\n",
    "- Transfer learning: using pre-trained deep learning model to fine tune the new model;\n",
    "- Deploy the model as a web service: demonstrate how to deploy the trained model as a web service;\n",
    "- Consume the web service: How to invoke the model;\n",
    "- PowerBI dashboard: building a dashboard to track the performance"
   ]
  },
  {
   "cell_type": "markdown",
   "metadata": {
    "nbpresent": {
     "id": "0d19e5ce-cc5b-4b2c-ad23-2ebf7b719eda"
    }
   },
   "source": [
    "### Import the required packages"
   ]
  },
  {
   "cell_type": "code",
   "execution_count": 38,
   "metadata": {
    "collapsed": true,
    "nbpresent": {
     "id": "50b438bc-eeb6-414a-a490-6e4bfcd96408"
    }
   },
   "outputs": [],
   "source": [
    "import numpy as np\n",
    "import cv2\n",
    "import os\n",
    "import pandas as pd\n",
    "from matplotlib import pyplot as plt\n",
    "import skimage.feature\n",
    "import imutils"
   ]
  },
  {
   "cell_type": "markdown",
   "metadata": {
    "nbpresent": {
     "id": "24bbe6c9-6e66-455c-8172-15e661116844"
    }
   },
   "source": [
    "### Label the image\n",
    "There are four sub-folders under the Images folder. The Train and Test folders are the train and test images from the original dataset. These images are taken with various sizes. The sub-folders Train_dotted and Test_dotted are the same images with Train and Test sub-folders except the red blods are added manually into the images to mark our the center of the dents or defects. \n",
    "Image classification is the same as the common classificaiton problem. First we need label the data. What we did here is to compare the same images from Train/Test with that in Train_dotted/Test_dotted to find our the center of the dents or defects. Then cut off the 64X64 around the center. This one will be labeld as '1'. For the rest of the images, we will cut 64X64 images randomly and label them as '0'. By doing so, we can add both positive and negative cases. The following picture showed this proces:\n",
    "\n",
    "<img src=\"picture_processing.jpg\" alt=\"Alt text that describes the graphic\" title=\"Image labeling process\" />"
   ]
  },
  {
   "cell_type": "code",
   "execution_count": 39,
   "metadata": {
    "collapsed": false,
    "nbpresent": {
     "id": "dbbd5167-61a9-4c2f-94a3-55b1fc2e5d76"
    },
    "scrolled": false
   },
   "outputs": [],
   "source": [
    "# Loop through each image\n",
    "def imgProcess( filePath, dottedFilePath, walkSize ):\n",
    "    imgs = []\n",
    "    labels = []\n",
    "    file_names = os.listdir(filePath)\n",
    "    print(file_names)\n",
    "    for filename in file_names:\n",
    "        image_1 = cv2.imread(dottedFilePath + filename)\n",
    "        image_2 = cv2.imread(filePath + filename)\n",
    "        height, width = image_1.shape[:2]\n",
    "        cut = np.copy(image_2)\n",
    "\n",
    "        # absolute difference between the orignal and the dotted\n",
    "        image_3 = cv2.absdiff(image_1,image_2)\n",
    "        # mask out blackened regions from the dotted images\n",
    "        mask_1 = cv2.cvtColor(image_1, cv2.COLOR_BGR2GRAY)\n",
    "        mask_1[mask_1 < 20] = 0\n",
    "        mask_1[mask_1 > 0] = 255\n",
    "\n",
    "        mask_2 = cv2.cvtColor(image_2, cv2.COLOR_BGR2GRAY)\n",
    "        mask_2[mask_2 < 20] = 0\n",
    "        mask_2[mask_2 > 0] = 255\n",
    "\n",
    "        image_3 = cv2.bitwise_or(image_3, image_3, mask=mask_1)\n",
    "        image_3 = cv2.bitwise_or(image_3, image_3, mask=mask_2) \n",
    "\n",
    "        # convert to grayscale to be accepted by skimage.feature.blob_log\n",
    "        image_3 = cv2.cvtColor(image_3, cv2.COLOR_BGR2GRAY)\n",
    "\n",
    "        # Detect the dotted defects in the dotted image\n",
    "        blobs = skimage.feature.blob_log(image_3, min_sigma=6, max_sigma=8, num_sigma=2, threshold=0.04, overlap = 0.5)\n",
    "\n",
    "        dents = []\n",
    "        image_circles = image_1\n",
    "\n",
    "        # For each file, identify the coordinates of all defects based on blobs\n",
    "        for blob in blobs:\n",
    "            # get the coordinates for each blob\n",
    "            y, x, s = blob\n",
    "\n",
    "            # get the color of the pixel from Train Dotted in the center of the blob\n",
    "            g,b,r = image_1[int(y)][int(x)][:]\n",
    "\n",
    "            # detect whether this is the defects center\n",
    "            if r > 240 and g < 20 and b < 20: # RED\n",
    "                dents.append((int(x),int(y)))\n",
    "                cv2.circle(image_circles, (int(x),int(y)), 20, (0,0,255), 10)    \n",
    "  \n",
    "            cv2.rectangle(cut, (int(x)-32,int(y)-32),(int(x)+32,int(y)+32), 0,-1)  \n",
    "\n",
    "        # For each blob, find the positive case\n",
    "        for coordinates in dents:        \n",
    "            thumb = image_2[coordinates[1]-32:coordinates[1]+32,coordinates[0]-32:coordinates[0]+32,:]\n",
    "            if np.shape(thumb) == (64, 64, 3):\n",
    "                imgs.append(thumb)\n",
    "                labels.append('1')\n",
    "        # Expand the samples by finding more negative samples           \n",
    "        for i in range(0,np.shape(cut)[0],walkSize):\n",
    "            for j in range(0,np.shape(cut)[1],walkSize):                \n",
    "                thumb = cut[i:i+64,j:j+64,:]\n",
    "                if np.amin(cv2.cvtColor(thumb, cv2.COLOR_BGR2GRAY)) != 0:\n",
    "                    if np.shape(thumb) == (64,64,3):\n",
    "                        imgs.append(thumb)\n",
    "                        labels.append('0')\n",
    "    return imgs, labels"
   ]
  },
  {
   "cell_type": "markdown",
   "metadata": {
    "nbpresent": {
     "id": "3b69cf9e-b639-4f0a-a968-920289aac7c8"
    }
   },
   "source": [
    "### Process train dataset\n",
    "The images are splitted into train and test datasets. The test dataset will be reserved to test the model performance."
   ]
  },
  {
   "cell_type": "code",
   "execution_count": 40,
   "metadata": {
    "collapsed": false,
    "nbpresent": {
     "id": "2bbea28e-b041-45c0-a5f3-eec36ec54aac"
    }
   },
   "outputs": [
    {
     "name": "stdout",
     "output_type": "stream",
     "text": [
      "['img01.jpg', 'img02.jpg', 'img03.jpg', 'img04.jpg', 'img05.jpg', 'img06.jpg', 'img07.jpg', 'img08.JPG', 'img09.JPG', 'img10.JPG', 'img11.jpg', 'img12.jpg', 'img13.jpg', 'img14.jpg', 'img15.JPG']\n"
     ]
    }
   ],
   "source": [
    "filePath = \"images/Train/\"\n",
    "dottedFilePath = \"images/Train_dotted/\"\n",
    "walkSize = 300\n",
    "trainx, trainy = imgProcess(filePath, dottedFilePath, walkSize)"
   ]
  },
  {
   "cell_type": "code",
   "execution_count": 41,
   "metadata": {
    "collapsed": false,
    "nbpresent": {
     "id": "897a2a71-ed4c-48e8-819d-ae7bd535c1d9"
    }
   },
   "outputs": [
    {
     "name": "stdout",
     "output_type": "stream",
     "text": [
      "44\n",
      "44\n",
      "['1', '1', '0', '1', '0', '0', '0', '0', '1', '0', '1', '0', '1', '0', '0', '0', '0', '1', '0', '0', '0', '0', '0', '0', '1', '0', '0', '0', '0', '1', '0', '1', '0', '1', '0', '0', '0', '0', '1', '1', '1', '0', '0', '0']\n"
     ]
    }
   ],
   "source": [
    "print(len(trainx))\n",
    "print(len(trainy))\n",
    "print(trainy)"
   ]
  },
  {
   "cell_type": "markdown",
   "metadata": {
    "nbpresent": {
     "id": "b472165d-5cfe-4354-ab57-f6bdf9b50319"
    }
   },
   "source": [
    "### Data Augmentation\n",
    "Even with the image processed as before, still we have too few images for training (< 100). We need expand our dataset for a better model. Data Augmentation can always improve performance though the amount depends on the dataset. If you want to augmented the data to artificially increase the size of the dataset you can do the following if the case applies (it wouldn't apply if for example were images of houses or people where if you rotate them 180degrees they would lose all information but not if you flip them like a mirror does):\n",
    "\n",
    "- rotation: random with angle between 0° and 360° (uniform)\n",
    "- translation: random with shift between -10 and 10 pixels (uniform)\n",
    "- rescaling: random with scale factor between 1/1.6 and 1.6 (log-uniform)\n",
    "- flipping: yes or no (bernoulli)\n",
    "- shearing: random with angle between -20° and 20° (uniform)\n",
    "- stretching: random with stretch factor between 1/1.3 and 1.3 (log-uniform)\n",
    "- mirroring: get the mirror of the original image\n",
    "\n",
    "In our approach, we will rotate each images in every 15 degree, and then take the mirror of each image in horizontal and vertical directions. So for each image, we will generate 24 (rotated including the original one) * 2 (mirrored) = 48 images. The following picture illustrates the processing:\n",
    "\n",
    "<img src=\"picture_augmentation.jpg\" alt=\"Image augmentation\" title=\"Image augmentation process\" />"
   ]
  },
  {
   "cell_type": "code",
   "execution_count": 42,
   "metadata": {
    "collapsed": false,
    "nbpresent": {
     "id": "42fa3318-e554-4c18-842c-86a921200e38"
    }
   },
   "outputs": [],
   "source": [
    "originx = np.copy(trainx)\n",
    "originy = np.copy(trainy)\n",
    "trainx = []\n",
    "trainy = []   \n",
    "    \n",
    "for i in range(0,len(originx)):\n",
    "    sample_image = originx[i]\n",
    "    for rotated_angle in np.arange(0, 360, 15):\n",
    "        rotated = imutils.rotate(sample_image, rotated_angle)\n",
    "        trainx.append(rotated)\n",
    "        trainy.append(originy[i])\n",
    "        for flipped_angle in np.arange(0, 2):\n",
    "            flipped_image = cv2.flip(rotated, flipped_angle)\n",
    "            trainx.append(flipped_image)\n",
    "            trainy.append(originy[i])"
   ]
  },
  {
   "cell_type": "code",
   "execution_count": 43,
   "metadata": {
    "collapsed": false,
    "nbpresent": {
     "id": "105f079f-3a82-4fb3-96d4-003f961d0933"
    }
   },
   "outputs": [
    {
     "name": "stdout",
     "output_type": "stream",
     "text": [
      "(64, 64, 3)\n",
      "3168\n"
     ]
    }
   ],
   "source": [
    "print((trainx[2].shape))\n",
    "print(len(trainy))\n"
   ]
  },
  {
   "cell_type": "markdown",
   "metadata": {
    "nbpresent": {
     "id": "7816852e-5f2f-439b-9aa0-5580c332b791"
    }
   },
   "source": [
    "### Model training\n",
    "We will use the Keras as example to show the model training process. Keras supports both CNTK and Tensorflow as the backend.\n",
    "The problem we try to solve is verify whether the claim is accpeted or denied, which is a simply binary classification problem. Here we build a feed-forward convolutional neural network (CNN). It is similar to the LeNet, which performs quite well for this kind of classification problem. The following picture illustrates the workflow of the training process.\n",
    "\n",
    "<img src=\"cnn_modeling.jpg\" alt=\"Image augmentation\" title=\"CNN Modeling Achitecture\" />"
   ]
  },
  {
   "cell_type": "code",
   "execution_count": 44,
   "metadata": {
    "collapsed": false,
    "nbpresent": {
     "id": "508e35de-ed3b-4b49-b087-a02a636bd51e"
    }
   },
   "outputs": [
    {
     "name": "stdout",
     "output_type": "stream",
     "text": [
      "2.0.6\n"
     ]
    }
   ],
   "source": [
    "from sklearn.model_selection import train_test_split\n",
    "from sklearn.preprocessing import LabelBinarizer\n",
    "import keras\n",
    "from keras.models import Sequential, load_model\n",
    "from keras.layers import Dense, Dropout, Activation, Flatten, Conv2D, MaxPooling2D, Lambda, Cropping2D, Input\n",
    "from keras.utils import np_utils\n",
    "from keras import optimizers\n",
    "from collections import Counter\n",
    "print(keras.__version__)"
   ]
  },
  {
   "cell_type": "markdown",
   "metadata": {
    "nbpresent": {
     "id": "a2ff0bd6-3394-4b35-8327-412c1fb29587"
    }
   },
   "source": [
    "### Prepare data for training\n",
    "We need transform the labels into one-hot encoder, i.e, for each labeled data will convert into two-column data:\n",
    "<table style=\"width:65%\">\n",
    "  <tr>\n",
    "    <th align=center>Id</th>\n",
    "    <th align=center>Accepted</th>\n",
    "    <th align=center>Denied</th>\n",
    "  </tr>\n",
    "  <tr>\n",
    "    <td align=center >1</td>\n",
    "    <td align=center >0</td>\n",
    "    <td align=center >1</td>\n",
    "  </tr>\n",
    "  <tr>\n",
    "    <td align=center >2</td>\n",
    "    <td align=center >1</td>\n",
    "    <td align=center >0</td>\n",
    "  </tr>\n",
    "<tr>\n",
    "    <td align=center >3</td>\n",
    "    <td align=center >0</td>\n",
    "    <td align=center >1</td>\n",
    "  </tr>\n",
    "</table>"
   ]
  },
  {
   "cell_type": "code",
   "execution_count": 45,
   "metadata": {
    "collapsed": true,
    "nbpresent": {
     "id": "0208dde4-da98-4116-b0ae-f06bed40ece8"
    }
   },
   "outputs": [],
   "source": [
    "trainx = np.array(trainx)\n",
    "trainy = np.array(trainy)"
   ]
  },
  {
   "cell_type": "code",
   "execution_count": 46,
   "metadata": {
    "collapsed": true,
    "nbpresent": {
     "id": "98500cae-2273-4d2d-96ad-810a859eb5cf"
    }
   },
   "outputs": [],
   "source": [
    "encoder = LabelBinarizer()\n",
    "encoder.fit(trainy)\n",
    "trainy = keras.utils.to_categorical(trainy, num_classes=2)"
   ]
  },
  {
   "cell_type": "code",
   "execution_count": 47,
   "metadata": {
    "collapsed": false,
    "nbpresent": {
     "id": "d48726a5-bb6a-480c-912e-b09de7cbbc08"
    }
   },
   "outputs": [
    {
     "name": "stdout",
     "output_type": "stream",
     "text": [
      "3168 3168\n",
      "(3168, 64, 64, 3)\n",
      "(3168, 2)\n"
     ]
    }
   ],
   "source": [
    "print(len(trainx), len(trainy))\n",
    "print (trainx.shape)\n",
    "print(trainy.shape)"
   ]
  },
  {
   "cell_type": "markdown",
   "metadata": {
    "nbpresent": {
     "id": "026b6e2f-3dca-4c6a-a3d6-05e332029c79"
    }
   },
   "source": [
    "### Prepare data for testing\n",
    "To evaluate the performance of the model, we reserve some images for the final testing, which are not seen in the training."
   ]
  },
  {
   "cell_type": "code",
   "execution_count": 48,
   "metadata": {
    "collapsed": false,
    "nbpresent": {
     "id": "6ce0128c-8a55-450e-8413-e8200aff7d0d"
    }
   },
   "outputs": [
    {
     "name": "stdout",
     "output_type": "stream",
     "text": [
      "['test01.jpg', 'test02.jpg', 'test03.jpg', 'test04.jpg', 'test05.jpg', 'test06.jpg', 'test07.jpg', 'test08.jpg', 'test09.jpg', 'test10.jpg', 'test11.jpg']\n"
     ]
    }
   ],
   "source": [
    "filePath = \"images/Test/\"\n",
    "dottedFilePath = \"images/Test_dotted/\"\n",
    "walkSize = 300\n",
    "testx, testy = imgProcess(filePath, dottedFilePath, walkSize)\n",
    "testx = np.array(testx)\n",
    "testy = np.array(testy)"
   ]
  },
  {
   "cell_type": "code",
   "execution_count": 49,
   "metadata": {
    "collapsed": false
   },
   "outputs": [
    {
     "name": "stdout",
     "output_type": "stream",
     "text": [
      "25 25\n",
      "(25, 64, 64, 3)\n",
      "(25,)\n"
     ]
    }
   ],
   "source": [
    "print(len(testx), len(testy))\n",
    "print (testx.shape)\n",
    "print(testy.shape)"
   ]
  },
  {
   "cell_type": "code",
   "execution_count": 50,
   "metadata": {
    "collapsed": false
   },
   "outputs": [
    {
     "name": "stdout",
     "output_type": "stream",
     "text": [
      "['1' '0' '0' '0' '0' '0' '0' '1' '1' '0' '1' '0' '1' '0' '1' '0' '0' '1'\n",
      " '0' '0' '1' '1' '1' '0' '0']\n"
     ]
    }
   ],
   "source": [
    "print(testy)"
   ]
  },
  {
   "cell_type": "markdown",
   "metadata": {
    "nbpresent": {
     "id": "761f048e-444f-4aef-955e-263a6ce305d9"
    }
   },
   "source": [
    "### Create the model\n",
    "The model is created with a slightly adaption of LeNet architecture, which consists five layers:\n",
    "\n",
    "<b>Convolution -> Max pooling -> Convolution -> Max pooling -> \n",
    "Convolution -> Max pooling ->\n",
    "Fullu connected -> Fully connected -> Softmax </b>\n",
    "\n",
    "The model is tested and tuned with various parameter settings and the best one is chosen for final evaluation."
   ]
  },
  {
   "cell_type": "code",
   "execution_count": 51,
   "metadata": {
    "collapsed": true,
    "nbpresent": {
     "id": "4ceb9db4-db0d-4283-b28f-9ede6ca0e308"
    }
   },
   "outputs": [],
   "source": [
    "def createModel():    \n",
    "    model = Sequential()\n",
    "\n",
    "    model.add(Lambda(lambda x: (x / 255.0) - 0.5, input_shape=(64,64,3)))\n",
    "\n",
    "\n",
    "    model.add(Conv2D(32, (5, 5), activation='relu', padding='same'))\n",
    "    model.add(MaxPooling2D(pool_size=(2,2)))\n",
    "    model.add(Conv2D(64, (5, 5), activation='relu', padding='same'))\n",
    "    model.add(MaxPooling2D(pool_size=(2,2)))\n",
    "    model.add(Conv2D(128, (5, 5), activation='relu', padding='same'))\n",
    "    model.add(MaxPooling2D(pool_size=(2,2)))\n",
    "    model.add(Conv2D(256, (5, 5), activation='relu', padding='same'))\n",
    "    model.add(MaxPooling2D(pool_size=(2,2)))\n",
    "    \n",
    "    model.add(Flatten())\n",
    "\n",
    "    model.add(Dense(512, activation='relu'))\n",
    "    model.add(Dropout(0.5))\n",
    "    model.add(Dense(256, activation='relu'))\n",
    "    model.add(Dropout(0.5))\n",
    "    model.add(Dense(2, activation='softmax'))\n",
    "    opt = optimizers.Adam(decay = 0.1)\n",
    "    model.compile(loss='binary_crossentropy',optimizer=opt,metrics=['accuracy'])\n",
    "    return model\n"
   ]
  },
  {
   "cell_type": "markdown",
   "metadata": {
    "collapsed": true,
    "nbpresent": {
     "id": "3cdc9cca-0621-4b18-b63e-cd41f2f4daf6"
    }
   },
   "source": [
    "## Train the model from the scratch"
   ]
  },
  {
   "cell_type": "code",
   "execution_count": 62,
   "metadata": {
    "collapsed": false,
    "nbpresent": {
     "id": "22b814e5-1608-4698-9432-605603fb42e1"
    }
   },
   "outputs": [],
   "source": [
    "mymodel = createModel()\n",
    "seed = 123\n",
    "numEpochs = 30\n",
    "batchSize = 16\n",
    "X_train, X_test, y_train, y_test = train_test_split(trainx, trainy, test_size=0.25, random_state=seed)\n",
    "myhistory = mymodel.fit(X_train, y_train, validation_data=(X_test, y_test), epochs=numEpochs, batch_size = batchSize, verbose=0)"
   ]
  },
  {
   "cell_type": "code",
   "execution_count": 63,
   "metadata": {
    "collapsed": true,
    "nbpresent": {
     "id": "e5dd5d66-4c76-4492-80e4-20bc84454439"
    }
   },
   "outputs": [],
   "source": [
    "def plotPerf(history):\n",
    "    plt.plot(history.history['acc'])\n",
    "    plt.plot(history.history['val_acc'])\n",
    "    plt.title('model accuracy')\n",
    "    plt.ylabel('accuracy')\n",
    "    plt.xlabel('epoch')\n",
    "    plt.legend(['train', 'test'], loc='upper left')\n",
    "    plt.show()\n",
    "    # summarize history for loss\n",
    "    plt.plot(history.history['loss'])\n",
    "    plt.plot(history.history['val_loss'])\n",
    "    plt.title('model loss')\n",
    "    plt.ylabel('loss')\n",
    "    plt.xlabel('epoch')\n",
    "    plt.legend(['train', 'test'], loc='upper left')\n",
    "    plt.show()"
   ]
  },
  {
   "cell_type": "code",
   "execution_count": 64,
   "metadata": {
    "collapsed": false,
    "nbpresent": {
     "id": "efbc2f8b-3d29-44b1-a213-cd53d38d5b4c"
    },
    "scrolled": true
   },
   "outputs": [
    {
     "data": {
      "image/png": "[encoded data removed]",
      "text/plain": [
       "<matplotlib.figure.Figure at 0x5407f23630>"
      ]
     },
     "metadata": {},
     "output_type": "display_data"
    },
    {
     "data": {
      "image/png": "[encoded data removed]",
      "text/plain": [
       "<matplotlib.figure.Figure at 0x540823c630>"
      ]
     },
     "metadata": {},
     "output_type": "display_data"
    }
   ],
   "source": [
    "plotPerf(myhistory)"
   ]
  },
  {
   "cell_type": "code",
   "execution_count": 65,
   "metadata": {
    "collapsed": false,
    "nbpresent": {
     "id": "a45f5e02-bf4d-4bf3-bc60-b3ca8ff0e635"
    },
    "scrolled": true
   },
   "outputs": [
    {
     "name": "stdout",
     "output_type": "stream",
     "text": [
      "Predicted: \n",
      " ['0' '0' '0' '0' '0' '0' '0' '1' '1' '0' '1' '0' '1' '0' '0' '0' '0' '0'\n",
      " '0' '0' '1' '1' '0' '0' '0']\n",
      "Actual: \n",
      " ['1' '0' '0' '0' '0' '0' '0' '1' '1' '0' '1' '0' '1' '0' '1' '0' '0' '1'\n",
      " '0' '0' '1' '1' '1' '0' '0']\n"
     ]
    }
   ],
   "source": [
    "y_predicted = mymodel.predict(testx, verbose = 0)\n",
    "y_pred = encoder.inverse_transform(y_predicted)\n",
    "print(\"Predicted: \\n\", y_pred)\n",
    "print(\"Actual: \\n\",testy)"
   ]
  },
  {
   "cell_type": "code",
   "execution_count": 66,
   "metadata": {
    "collapsed": false,
    "nbpresent": {
     "id": "6c05f121-0f76-4cdd-a206-2a661fbcc385"
    }
   },
   "outputs": [
    {
     "name": "stdout",
     "output_type": "stream",
     "text": [
      "0\n"
     ]
    },
    {
     "data": {
      "image/png": "[encoded data removed]",
      "text/plain": [
       "<matplotlib.figure.Figure at 0x5404e723c8>"
      ]
     },
     "metadata": {},
     "output_type": "display_data"
    }
   ],
   "source": [
    "print(testy[5])\n",
    "plt.imshow(cv2.cvtColor(testx[5], cv2.COLOR_BGR2RGB))\n",
    "plt.show()"
   ]
  },
  {
   "cell_type": "code",
   "execution_count": 67,
   "metadata": {
    "collapsed": false,
    "nbpresent": {
     "id": "d0ca8776-a01e-48d9-8794-35e53ecd42e1"
    }
   },
   "outputs": [],
   "source": [
    "from sklearn import metrics\n",
    "from sklearn.metrics import confusion_matrix, precision_score, recall_score, f1_score, cohen_kappa_score\n",
    "import pandas as pd\n",
    "from ggplot import *"
   ]
  },
  {
   "cell_type": "code",
   "execution_count": 68,
   "metadata": {
    "collapsed": false,
    "nbpresent": {
     "id": "326446ac-1dc4-4177-bbc7-f5742f7df913"
    }
   },
   "outputs": [
    {
     "name": "stdout",
     "output_type": "stream",
     "text": [
      "[[15  0]\n",
      " [ 4  6]]\n",
      "Precision:  1.0\n",
      "Recall   : 0.6\n",
      "F1 score : 0.75\n",
      "AUC      : 0.72\n"
     ]
    }
   ],
   "source": [
    "label_y = [int(numeric_string) for numeric_string in testy]\n",
    "pred_y = [int(numeric_string) for numeric_string in y_pred]\n",
    "\n",
    "# Confusion matrix\n",
    "confusion = confusion_matrix(label_y, pred_y)\n",
    "print(confusion)\n",
    "# Precision \n",
    "precision_val = precision_score(label_y, pred_y, pos_label = 1)\n",
    "# Recall\n",
    "recall_val = recall_score(label_y, pred_y)\n",
    "# F1 score\n",
    "f1_val = f1_score(label_y,pred_y)\n",
    "\n",
    "print(\"Precision: \", precision_val)\n",
    "print(\"Recall   :\", recall_val)\n",
    "print(\"F1 score :\", f1_val)\n",
    "\n",
    "# Calculate AUC\n",
    "fpr, tpr, _ = metrics.roc_curve(label_y, y_predicted[:,1])\n",
    "auc = metrics.auc(fpr,tpr)\n",
    "print(\"AUC      :\", auc)"
   ]
  },
  {
   "cell_type": "code",
   "execution_count": 69,
   "metadata": {
    "collapsed": false
   },
   "outputs": [
    {
     "data": {
      "image/png": "[encoded data removed]",
      "text/plain": [
       "<matplotlib.figure.Figure at 0x5404e918d0>"
      ]
     },
     "metadata": {},
     "output_type": "display_data"
    },
    {
     "data": {
      "text/plain": [
       "<ggplot: (-9223372014301045872)>"
      ]
     },
     "execution_count": 69,
     "metadata": {},
     "output_type": "execute_result"
    }
   ],
   "source": [
    "# Plot ROC curve\n",
    "preds = y_predicted[:,1]\n",
    "fpr, tpr, _ = metrics.roc_curve(label_y, preds)\n",
    "df = pd.DataFrame(dict(fpr=fpr, tpr=tpr))\n",
    "ggplot(df, aes(x='fpr', y='tpr')) +\\\n",
    "    geom_line() +\\\n",
    "    geom_abline(linetype='dashed') +\\\n",
    "    ggtitle(\"ROC Curve w/ AUC=%s\" % str(auc))"
   ]
  },
  {
   "cell_type": "markdown",
   "metadata": {},
   "source": [
    "## Transfer learning\n",
    "Given the small number of images we have, instead of training the model from the scratch, we may take advantage of pre-trained model. In general, the most important factors to decide how to perform transfer learning are the size of the new dataset (small or large) and the similarity with the original dataset. For our case, we will use the pre-trained mode with VGG16 as example to demonstrate the usage of transfer learning. Since the dataset is small, we will only train a linear classifier. Because the dataset is very different compared with the ImageNet images, we will train a classifier from activations somewhere earlier in the VGG16 network. "
   ]
  },
  {
   "cell_type": "code",
   "execution_count": 54,
   "metadata": {
    "collapsed": true,
    "nbpresent": {
     "id": "c1453c41-168e-4826-a193-3450b26e3196"
    }
   },
   "outputs": [],
   "source": [
    "from keras import applications\n",
    "from keras.models import Model, load_model\n",
    "from keras.callbacks import ModelCheckpoint, LearningRateScheduler, TensorBoard, EarlyStopping"
   ]
  },
  {
   "cell_type": "code",
   "execution_count": 55,
   "metadata": {
    "collapsed": false,
    "nbpresent": {
     "id": "3acb97b5-75ae-4d54-abee-f62a48fd3710"
    }
   },
   "outputs": [],
   "source": [
    "img_rows, img_cols, img_channel = 64, 64, 3\n",
    "base_model = applications.VGG16(weights='imagenet', include_top=False, input_shape=(img_rows, img_cols, img_channel))"
   ]
  },
  {
   "cell_type": "code",
   "execution_count": 56,
   "metadata": {
    "collapsed": true,
    "nbpresent": {
     "id": "489f19a1-f761-4824-9976-26bdd4405988"
    }
   },
   "outputs": [],
   "source": [
    "# Freeze the layers which you don't want to train. Here I am freezing the first 10 layers.\n",
    "for layer in base_model.layers[:10]:\n",
    "    layer.trainable = False"
   ]
  },
  {
   "cell_type": "code",
   "execution_count": 57,
   "metadata": {
    "collapsed": true,
    "nbpresent": {
     "id": "8bc7ff34-6aab-42b1-9729-3da0795acf6d"
    }
   },
   "outputs": [],
   "source": [
    "def createVGG16Model():\n",
    "    add_model = Sequential()\n",
    "    add_model.add(Flatten(input_shape=base_model.output_shape[1:]))\n",
    "    add_model.add(Dense(512, activation='relu'))\n",
    "    add_model.add(Dense(256, activation='relu'))\n",
    "    add_model.add(Dense(2, activation='softmax'))\n",
    "\n",
    "    model = Model(inputs=base_model.input, outputs=add_model(base_model.output))\n",
    "    opt = optimizers.SGD(lr=1e-4, momentum=0.9)\n",
    "    model.compile(loss='binary_crossentropy', \n",
    "                  optimizer=opt,\n",
    "                  metrics=['accuracy'])\n",
    "\n",
    "    model.summary()\n",
    "    return model"
   ]
  },
  {
   "cell_type": "code",
   "execution_count": 58,
   "metadata": {
    "collapsed": false,
    "nbpresent": {
     "id": "902336c9-1018-4ce2-9e2d-4e4cc8df5b70"
    }
   },
   "outputs": [
    {
     "name": "stdout",
     "output_type": "stream",
     "text": [
      "_________________________________________________________________\n",
      "Layer (type)                 Output Shape              Param #   \n",
      "=================================================================\n",
      "input_2 (InputLayer)         (None, 64, 64, 3)         0         \n",
      "_________________________________________________________________\n",
      "block1_conv1 (Conv2D)        (None, 64, 64, 64)        1792      \n",
      "_________________________________________________________________\n",
      "block1_conv2 (Conv2D)        (None, 64, 64, 64)        36928     \n",
      "_________________________________________________________________\n",
      "block1_pool (MaxPooling2D)   (None, 32, 32, 64)        0         \n",
      "_________________________________________________________________\n",
      "block2_conv1 (Conv2D)        (None, 32, 32, 128)       73856     \n",
      "_________________________________________________________________\n",
      "block2_conv2 (Conv2D)        (None, 32, 32, 128)       147584    \n",
      "_________________________________________________________________\n",
      "block2_pool (MaxPooling2D)   (None, 16, 16, 128)       0         \n",
      "_________________________________________________________________\n",
      "block3_conv1 (Conv2D)        (None, 16, 16, 256)       295168    \n",
      "_________________________________________________________________\n",
      "block3_conv2 (Conv2D)        (None, 16, 16, 256)       590080    \n",
      "_________________________________________________________________\n",
      "block3_conv3 (Conv2D)        (None, 16, 16, 256)       590080    \n",
      "_________________________________________________________________\n",
      "block3_pool (MaxPooling2D)   (None, 8, 8, 256)         0         \n",
      "_________________________________________________________________\n",
      "block4_conv1 (Conv2D)        (None, 8, 8, 512)         1180160   \n",
      "_________________________________________________________________\n",
      "block4_conv2 (Conv2D)        (None, 8, 8, 512)         2359808   \n",
      "_________________________________________________________________\n",
      "block4_conv3 (Conv2D)        (None, 8, 8, 512)         2359808   \n",
      "_________________________________________________________________\n",
      "block4_pool (MaxPooling2D)   (None, 4, 4, 512)         0         \n",
      "_________________________________________________________________\n",
      "block5_conv1 (Conv2D)        (None, 4, 4, 512)         2359808   \n",
      "_________________________________________________________________\n",
      "block5_conv2 (Conv2D)        (None, 4, 4, 512)         2359808   \n",
      "_________________________________________________________________\n",
      "block5_conv3 (Conv2D)        (None, 4, 4, 512)         2359808   \n",
      "_________________________________________________________________\n",
      "block5_pool (MaxPooling2D)   (None, 2, 2, 512)         0         \n",
      "_________________________________________________________________\n",
      "sequential_5 (Sequential)    (None, 2)                 1180930   \n",
      "=================================================================\n",
      "Total params: 15,895,618\n",
      "Trainable params: 14,160,130\n",
      "Non-trainable params: 1,735,488\n",
      "_________________________________________________________________\n",
      "Train on 2376 samples, validate on 792 samples\n",
      "Epoch 1/10\n",
      "2376/2376 [==============================] - 22s - loss: 0.3063 - acc: 0.9356 - val_loss: 1.0557 - val_acc: 0.8586\n",
      "Epoch 2/10\n",
      "2376/2376 [==============================] - 20s - loss: 0.0040 - acc: 0.9996 - val_loss: 1.1647 - val_acc: 0.8598\n",
      "Epoch 3/10\n",
      "2376/2376 [==============================] - 21s - loss: 0.0015 - acc: 1.0000 - val_loss: 1.2462 - val_acc: 0.8548\n",
      "Epoch 4/10\n",
      "2376/2376 [==============================] - 21s - loss: 8.7879e-04 - acc: 1.0000 - val_loss: 1.3037 - val_acc: 0.8586\n",
      "Epoch 5/10\n",
      "2376/2376 [==============================] - 20s - loss: 6.2822e-04 - acc: 1.0000 - val_loss: 1.3414 - val_acc: 0.8535\n",
      "Epoch 6/10\n",
      "2376/2376 [==============================] - 19s - loss: 4.8369e-04 - acc: 1.0000 - val_loss: 1.3746 - val_acc: 0.8573\n",
      "Epoch 7/10\n",
      "2376/2376 [==============================] - 21s - loss: 3.9311e-04 - acc: 1.0000 - val_loss: 1.3988 - val_acc: 0.8573\n",
      "Epoch 8/10\n",
      "2376/2376 [==============================] - 21s - loss: 3.2856e-04 - acc: 1.0000 - val_loss: 1.4192 - val_acc: 0.8573\n",
      "Epoch 9/10\n",
      "2376/2376 [==============================] - 20s - loss: 2.8217e-04 - acc: 1.0000 - val_loss: 1.4353 - val_acc: 0.8586\n",
      "Epoch 10/10\n",
      "2376/2376 [==============================] - 21s - loss: 2.4656e-04 - acc: 1.0000 - val_loss: 1.4473 - val_acc: 0.8598\n"
     ]
    }
   ],
   "source": [
    "vgg16model = createVGG16Model()\n",
    "vgghistory = vgg16model.fit(trainx, \n",
    "                           trainy, \n",
    "                           validation_split=0.25, \n",
    "                           epochs=10, \n",
    "                           batch_size=batchSize, \n",
    "                           verbose=1)"
   ]
  },
  {
   "cell_type": "code",
   "execution_count": null,
   "metadata": {
    "collapsed": false,
    "nbpresent": {
     "id": "a478c4aa-15fe-4a4a-b605-65810f1168a6"
    }
   },
   "outputs": [],
   "source": [
    "plotPerf(vgghistory)"
   ]
  },
  {
   "cell_type": "code",
   "execution_count": 59,
   "metadata": {
    "collapsed": false,
    "nbpresent": {
     "id": "3b47dd68-161b-4557-8526-217b7d6e0798"
    }
   },
   "outputs": [
    {
     "name": "stdout",
     "output_type": "stream",
     "text": [
      "Predicted: \n",
      " ['0' '0' '0' '0' '0' '0' '0' '1' '1' '0' '1' '0' '1' '0' '0' '0' '0' '0'\n",
      " '0' '0' '1' '1' '0' '0' '0']\n",
      "Actual: \n",
      " ['1' '0' '0' '0' '0' '0' '0' '1' '1' '0' '1' '0' '1' '0' '1' '0' '0' '1'\n",
      " '0' '0' '1' '1' '1' '0' '0']\n"
     ]
    }
   ],
   "source": [
    "y_predicted = vgg16model.predict(testx, verbose=0)\n",
    "y_pred = encoder.inverse_transform(y_predicted)\n",
    "print(\"Predicted: \\n\", y_pred)\n",
    "print(\"Actual: \\n\",testy)"
   ]
  },
  {
   "cell_type": "code",
   "execution_count": 60,
   "metadata": {
    "collapsed": false,
    "nbpresent": {
     "id": "25542a57-1f80-40d3-a351-20ec28fd39fd"
    }
   },
   "outputs": [
    {
     "name": "stdout",
     "output_type": "stream",
     "text": [
      "Prediction:  ['0' '0' '0' '0' '0' '0' '0' '1' '1' '0' '1' '0' '1' '0' '0' '0' '0' '0'\n",
      " '0' '0' '1' '1' '0' '0' '0']\n",
      "Acutal    :  ['1' '0' '0' '0' '0' '0' '0' '1' '1' '0' '1' '0' '1' '0' '1' '0' '0' '1'\n",
      " '0' '0' '1' '1' '1' '0' '0']\n",
      "[[15  0]\n",
      " [ 4  6]]\n",
      "Precision:  1.0\n",
      "Recall   : 0.6\n",
      "F1 score : 0.75\n",
      "AUC      : 0.906666666667\n"
     ]
    }
   ],
   "source": [
    "print(\"Prediction: \", y_pred)\n",
    "print(\"Acutal    : \", testy)\n",
    "label_y = [int(numeric_string) for numeric_string in testy]\n",
    "pred_y = [int(numeric_string) for numeric_string in y_pred]\n",
    "\n",
    "# Confusion matrix\n",
    "confusion = confusion_matrix(label_y, pred_y)\n",
    "print(confusion)\n",
    "# Precision \n",
    "precision_val = precision_score(label_y, pred_y, pos_label = 1)\n",
    "# Recall\n",
    "recall_val = recall_score(label_y, pred_y)\n",
    "# F1 score\n",
    "f1_val = f1_score(label_y,pred_y)\n",
    "\n",
    "print(\"Precision: \", precision_val)\n",
    "print(\"Recall   :\", recall_val)\n",
    "print(\"F1 score :\", f1_val)\n",
    "\n",
    "\n",
    "fpr, tpr, _ = metrics.roc_curve(label_y, y_predicted[:,1])\n",
    "auc = metrics.auc(fpr,tpr)\n",
    "print(\"AUC      :\", auc)"
   ]
  },
  {
   "cell_type": "code",
   "execution_count": 61,
   "metadata": {
    "collapsed": false,
    "nbpresent": {
     "id": "bab062ce-6d7b-4314-a577-6b69aa4b4869"
    }
   },
   "outputs": [
    {
     "data": {
      "image/png": "[encoded data removed]",
      "text/plain": [
       "<matplotlib.figure.Figure at 0x5404ba3d68>"
      ]
     },
     "metadata": {},
     "output_type": "display_data"
    },
    {
     "data": {
      "text/plain": [
       "<ggplot: (22553535457)>"
      ]
     },
     "execution_count": 61,
     "metadata": {},
     "output_type": "execute_result"
    }
   ],
   "source": [
    "preds = y_predicted[:,1]\n",
    "fpr, tpr, _ = metrics.roc_curve(label_y, preds)\n",
    "df = pd.DataFrame(dict(fpr=fpr, tpr=tpr))\n",
    "ggplot(df, aes(x='fpr', y='tpr')) +\\\n",
    "    geom_line() +\\\n",
    "    geom_abline(linetype='dashed') +\\\n",
    "    ggtitle(\"ROC Curve w/ AUC=%s\" % str(auc))"
   ]
  },
  {
   "cell_type": "markdown",
   "metadata": {},
   "source": [
    "## Prepare for model deployment\n",
    "\n",
    "Save Model into files. So it can be reload and used in inference prcess."
   ]
  },
  {
   "cell_type": "code",
   "execution_count": 72,
   "metadata": {
    "collapsed": false
   },
   "outputs": [
    {
     "name": "stdout",
     "output_type": "stream",
     "text": [
      "saved!\n"
     ]
    }
   ],
   "source": [
    "import h5py\n",
    "model_json_string=mymodel.to_json()\n",
    "open('my_model_architecture.json','w').write(model_json_string)\n",
    "mymodel.save_weights('my_model_weights.h5')\n",
    "print('saved!')"
   ]
  },
  {
   "cell_type": "code",
   "execution_count": null,
   "metadata": {
    "collapsed": true
   },
   "outputs": [],
   "source": []
  }
 ],
 "metadata": {
  "anaconda-cloud": {},
  "kernelspec": {
   "display_name": "Python [default]",
   "language": "python",
   "name": "python3"
  },
  "language_info": {
   "codemirror_mode": {
    "name": "ipython",
    "version": 3
   },
   "file_extension": ".py",
   "mimetype": "text/x-python",
   "name": "python",
   "nbconvert_exporter": "python",
   "pygments_lexer": "ipython3",
   "version": "3.5.2"
  },
  "nbpresent": {
   "slides": {
    "00e4de70-bccc-4bc8-a70a-ec78c7b7366c": {
     "id": "00e4de70-bccc-4bc8-a70a-ec78c7b7366c",
     "prev": "c4aaac9a-65a2-4667-9e1b-49137c80b89a",
     "regions": {
      "4adca8fc-f58e-41c1-9b8d-cbe795d26399": {
       "attrs": {
        "height": 0.8,
        "width": 0.8,
        "x": 0.1,
        "y": 0.1
       },
       "content": {
        "cell": "d0ca8776-a01e-48d9-8794-35e53ecd42e1",
        "part": "whole"
       },
       "id": "4adca8fc-f58e-41c1-9b8d-cbe795d26399"
      }
     }
    },
    "0221c341-8979-485b-ba29-c9f077ecb5d0": {
     "id": "0221c341-8979-485b-ba29-c9f077ecb5d0",
     "prev": "8233c4d7-184f-438a-a770-5a1e181cfcbc",
     "regions": {
      "6a41dca9-1742-494e-a05d-00d6fa49fc54": {
       "attrs": {
        "height": 0.8,
        "width": 0.8,
        "x": 0.1,
        "y": 0.1
       },
       "content": {
        "cell": "24bbe6c9-6e66-455c-8172-15e661116844",
        "part": "whole"
       },
       "id": "6a41dca9-1742-494e-a05d-00d6fa49fc54"
      }
     }
    },
    "0cd4df37-4316-4e3f-8567-197266813187": {
     "id": "0cd4df37-4316-4e3f-8567-197266813187",
     "prev": "95f812dc-2e8c-4fb1-b037-559042ea09e6",
     "regions": {
      "cb0f71e8-a86d-4aae-b597-d7e1284370c7": {
       "attrs": {
        "height": 0.8,
        "width": 0.8,
        "x": 0.1,
        "y": 0.1
       },
       "content": {
        "cell": "3acb97b5-75ae-4d54-abee-f62a48fd3710",
        "part": "whole"
       },
       "id": "cb0f71e8-a86d-4aae-b597-d7e1284370c7"
      }
     }
    },
    "1f4f227a-5f44-46c1-90c0-648d3dfb9d40": {
     "id": "1f4f227a-5f44-46c1-90c0-648d3dfb9d40",
     "prev": "7417595c-6953-498e-b0dc-14bbbebe0eb6",
     "regions": {
      "0c447734-9547-43db-b7d8-73b0af2cd4fd": {
       "attrs": {
        "height": 0.8,
        "width": 0.8,
        "x": 0.1,
        "y": 0.1
       },
       "content": {
        "cell": "e5dd5d66-4c76-4492-80e4-20bc84454439",
        "part": "whole"
       },
       "id": "0c447734-9547-43db-b7d8-73b0af2cd4fd"
      }
     }
    },
    "2e424520-3241-444a-b2cc-182b7b085aa3": {
     "id": "2e424520-3241-444a-b2cc-182b7b085aa3",
     "prev": "f17844d0-c00f-44a5-895e-51714ba4859a",
     "regions": {
      "2a190c58-e4b6-437c-8343-b36d19aac904": {
       "attrs": {
        "height": 0.8,
        "width": 0.8,
        "x": 0.1,
        "y": 0.1
       },
       "content": {
        "cell": "bab062ce-6d7b-4314-a577-6b69aa4b4869",
        "part": "whole"
       },
       "id": "2a190c58-e4b6-437c-8343-b36d19aac904"
      }
     }
    },
    "30b482dd-3238-484b-ac67-712a6aa4605f": {
     "id": "30b482dd-3238-484b-ac67-712a6aa4605f",
     "prev": "b9f1c92e-5288-4a18-9756-e9cc07c1fa8d",
     "regions": {
      "8fb2594c-8f12-4272-ac19-f6f34c5648dd": {
       "attrs": {
        "height": 0.8,
        "width": 0.8,
        "x": 0.1,
        "y": 0.1
       },
       "content": {
        "cell": "98500cae-2273-4d2d-96ad-810a859eb5cf",
        "part": "whole"
       },
       "id": "8fb2594c-8f12-4272-ac19-f6f34c5648dd"
      }
     }
    },
    "38b8e61b-b75c-4e72-847b-8b26162ec10a": {
     "id": "38b8e61b-b75c-4e72-847b-8b26162ec10a",
     "prev": "0221c341-8979-485b-ba29-c9f077ecb5d0",
     "regions": {
      "51dc060c-3ab2-42ad-91fa-356ff91ba9ce": {
       "attrs": {
        "height": 0.8,
        "width": 0.8,
        "x": 0.1,
        "y": 0.1
       },
       "content": {
        "cell": "dbbd5167-61a9-4c2f-94a3-55b1fc2e5d76",
        "part": "whole"
       },
       "id": "51dc060c-3ab2-42ad-91fa-356ff91ba9ce"
      }
     }
    },
    "3b318d39-59d9-4989-97d4-ee6b4446b263": {
     "id": "3b318d39-59d9-4989-97d4-ee6b4446b263",
     "prev": "5fa68e0c-3935-4cd9-9909-0c56d0566b95",
     "regions": {
      "5324b697-6b49-401a-ad4b-786297fbd9ab": {
       "attrs": {
        "height": 0.8,
        "width": 0.8,
        "x": 0.1,
        "y": 0.1
       },
       "content": {
        "cell": "a5e6b92a-7b88-4ee7-9864-ae720b1f358e",
        "part": "whole"
       },
       "id": "5324b697-6b49-401a-ad4b-786297fbd9ab"
      }
     }
    },
    "412a160b-db2f-4289-bebc-e7f9187d75b3": {
     "id": "412a160b-db2f-4289-bebc-e7f9187d75b3",
     "prev": "e2aa3879-4430-44f7-8969-f0a32f7afb85",
     "regions": {
      "8e43b6eb-65e2-4774-86df-efb092a00f98": {
       "attrs": {
        "height": 0.8,
        "width": 0.8,
        "x": 0.1,
        "y": 0.1
       },
       "content": {
        "cell": "902336c9-1018-4ce2-9e2d-4e4cc8df5b70",
        "part": "whole"
       },
       "id": "8e43b6eb-65e2-4774-86df-efb092a00f98"
      }
     }
    },
    "4ac1b9c5-11b3-487c-ad98-eb81a82bbe4e": {
     "id": "4ac1b9c5-11b3-487c-ad98-eb81a82bbe4e",
     "prev": "921339cc-4e8c-42ad-9ed3-e4c7fd56bc22",
     "regions": {
      "fcb99fa0-ee67-4be1-88c9-4aede7be1d8c": {
       "attrs": {
        "height": 0.8,
        "width": 0.8,
        "x": 0.1,
        "y": 0.1
       },
       "content": {
        "cell": "897a2a71-ed4c-48e8-819d-ae7bd535c1d9",
        "part": "whole"
       },
       "id": "fcb99fa0-ee67-4be1-88c9-4aede7be1d8c"
      }
     }
    },
    "583e60df-ce6c-4797-900e-e5890d116282": {
     "id": "583e60df-ce6c-4797-900e-e5890d116282",
     "prev": "d6f94617-d453-4be7-b9e8-4be4174fa478",
     "regions": {
      "067b68e5-8173-46f6-9d70-8b547dc66baa": {
       "attrs": {
        "height": 0.8,
        "width": 0.8,
        "x": 0.1,
        "y": 0.1
       },
       "content": {
        "cell": "a2ff0bd6-3394-4b35-8327-412c1fb29587",
        "part": "whole"
       },
       "id": "067b68e5-8173-46f6-9d70-8b547dc66baa"
      }
     }
    },
    "5a7f4fbd-dff0-4890-9b9a-c5ceb353a559": {
     "id": "5a7f4fbd-dff0-4890-9b9a-c5ceb353a559",
     "prev": "790417eb-a48b-4987-833b-1e46b68e1c70",
     "regions": {
      "1915229d-8a06-4892-9c55-c1998772c828": {
       "attrs": {
        "height": 0.8,
        "width": 0.8,
        "x": 0.1,
        "y": 0.1
       },
       "content": {
        "cell": "4ceb9db4-db0d-4283-b28f-9ede6ca0e308",
        "part": "whole"
       },
       "id": "1915229d-8a06-4892-9c55-c1998772c828"
      }
     }
    },
    "5fa68e0c-3935-4cd9-9909-0c56d0566b95": {
     "id": "5fa68e0c-3935-4cd9-9909-0c56d0566b95",
     "prev": "00e4de70-bccc-4bc8-a70a-ec78c7b7366c",
     "regions": {
      "95050713-c334-405e-bad5-e3978d519572": {
       "attrs": {
        "height": 0.8,
        "width": 0.8,
        "x": 0.1,
        "y": 0.1
       },
       "content": {
        "cell": "326446ac-1dc4-4177-bbc7-f5742f7df913",
        "part": "whole"
       },
       "id": "95050713-c334-405e-bad5-e3978d519572"
      }
     }
    },
    "73c4d0ae-8713-465a-a2c6-5e3999139cc7": {
     "id": "73c4d0ae-8713-465a-a2c6-5e3999139cc7",
     "prev": "853b17bb-7b41-47c3-b4be-4462b7d39fbf",
     "regions": {
      "29b091d1-a16b-44f6-9e56-ab4130c9cb39": {
       "attrs": {
        "height": 0.8,
        "width": 0.8,
        "x": 0.1,
        "y": 0.1
       },
       "content": {
        "cell": "6ce0128c-8a55-450e-8413-e8200aff7d0d",
        "part": "whole"
       },
       "id": "29b091d1-a16b-44f6-9e56-ab4130c9cb39"
      }
     }
    },
    "7417595c-6953-498e-b0dc-14bbbebe0eb6": {
     "id": "7417595c-6953-498e-b0dc-14bbbebe0eb6",
     "prev": "f5e23b9c-3e5e-4f25-aeec-630f5a492f4b",
     "regions": {
      "482e7722-c4b7-49b4-b3aa-4444fbb4705d": {
       "attrs": {
        "height": 0.8,
        "width": 0.8,
        "x": 0.1,
        "y": 0.1
       },
       "content": {
        "cell": "22b814e5-1608-4698-9432-605603fb42e1",
        "part": "whole"
       },
       "id": "482e7722-c4b7-49b4-b3aa-4444fbb4705d"
      }
     }
    },
    "790417eb-a48b-4987-833b-1e46b68e1c70": {
     "id": "790417eb-a48b-4987-833b-1e46b68e1c70",
     "prev": "73c4d0ae-8713-465a-a2c6-5e3999139cc7",
     "regions": {
      "e0e8900e-9d99-4b60-837b-f6095d75178b": {
       "attrs": {
        "height": 0.8,
        "width": 0.8,
        "x": 0.1,
        "y": 0.1
       },
       "content": {
        "cell": "761f048e-444f-4aef-955e-263a6ce305d9",
        "part": "whole"
       },
       "id": "e0e8900e-9d99-4b60-837b-f6095d75178b"
      }
     }
    },
    "7d016908-4858-4784-93be-cf3be55ceb77": {
     "id": "7d016908-4858-4784-93be-cf3be55ceb77",
     "prev": "d20b5d2d-3e67-4699-bc95-015b8d6cbe7e",
     "regions": {
      "3893435a-eff0-4427-9017-267271c8beb6": {
       "attrs": {
        "height": 0.8,
        "width": 0.8,
        "x": 0.1,
        "y": 0.1
       },
       "content": {
        "cell": "42fa3318-e554-4c18-842c-86a921200e38",
        "part": "whole"
       },
       "id": "3893435a-eff0-4427-9017-267271c8beb6"
      }
     }
    },
    "813e4252-4037-429a-9801-54976ca3c73b": {
     "id": "813e4252-4037-429a-9801-54976ca3c73b",
     "prev": "38b8e61b-b75c-4e72-847b-8b26162ec10a",
     "regions": {
      "cab927ba-a0b1-4d2f-bdfe-0a1ff7ec5a3d": {
       "attrs": {
        "height": 0.8,
        "width": 0.8,
        "x": 0.1,
        "y": 0.1
       },
       "content": {
        "cell": "3b69cf9e-b639-4f0a-a968-920289aac7c8",
        "part": "whole"
       },
       "id": "cab927ba-a0b1-4d2f-bdfe-0a1ff7ec5a3d"
      }
     }
    },
    "8233c4d7-184f-438a-a770-5a1e181cfcbc": {
     "id": "8233c4d7-184f-438a-a770-5a1e181cfcbc",
     "prev": "d0b4cfd7-a152-4d16-8624-e40afcb214d0",
     "regions": {
      "dbb80fe7-6372-4073-9c10-23164322e01c": {
       "attrs": {
        "height": 0.8,
        "width": 0.8,
        "x": 0.1,
        "y": 0.1
       },
       "content": {
        "cell": "e2d3d2d6-f582-41b3-b469-af62d389cec3",
        "part": "whole"
       },
       "id": "dbb80fe7-6372-4073-9c10-23164322e01c"
      }
     }
    },
    "853b17bb-7b41-47c3-b4be-4462b7d39fbf": {
     "id": "853b17bb-7b41-47c3-b4be-4462b7d39fbf",
     "prev": "8e0066cc-6312-402d-8d23-3eeeb008f667",
     "regions": {
      "117408da-d1bd-4608-95e2-46f2bb85b15b": {
       "attrs": {
        "height": 0.8,
        "width": 0.8,
        "x": 0.1,
        "y": 0.1
       },
       "content": {
        "cell": "026b6e2f-3dca-4c6a-a3d6-05e332029c79",
        "part": "whole"
       },
       "id": "117408da-d1bd-4608-95e2-46f2bb85b15b"
      }
     }
    },
    "8770e4a6-23f3-49a6-a158-bdb29e4a2652": {
     "id": "8770e4a6-23f3-49a6-a158-bdb29e4a2652",
     "prev": "c06ea856-fe34-4c37-b07c-a0b1559bae09",
     "regions": {
      "754b2829-a12b-4e60-8eea-8b8d49425451": {
       "attrs": {
        "height": 0.8,
        "width": 0.8,
        "x": 0.1,
        "y": 0.1
       },
       "content": {
        "cell": "8bc7ff34-6aab-42b1-9729-3da0795acf6d",
        "part": "whole"
       },
       "id": "754b2829-a12b-4e60-8eea-8b8d49425451"
      }
     }
    },
    "8c1638bb-ff28-4e04-89af-d83c44ceab90": {
     "id": "8c1638bb-ff28-4e04-89af-d83c44ceab90",
     "prev": "1f4f227a-5f44-46c1-90c0-648d3dfb9d40",
     "regions": {
      "c4be0fb1-a7cd-45af-b540-60d0e27a9230": {
       "attrs": {
        "height": 0.8,
        "width": 0.8,
        "x": 0.1,
        "y": 0.1
       },
       "content": {
        "cell": "efbc2f8b-3d29-44b1-a213-cd53d38d5b4c",
        "part": "whole"
       },
       "id": "c4be0fb1-a7cd-45af-b540-60d0e27a9230"
      }
     }
    },
    "8e0066cc-6312-402d-8d23-3eeeb008f667": {
     "id": "8e0066cc-6312-402d-8d23-3eeeb008f667",
     "prev": "30b482dd-3238-484b-ac67-712a6aa4605f",
     "regions": {
      "4b606bbc-eb5c-4db4-af25-9a540ad24f1e": {
       "attrs": {
        "height": 0.8,
        "width": 0.8,
        "x": 0.1,
        "y": 0.1
       },
       "content": {
        "cell": "d48726a5-bb6a-480c-912e-b09de7cbbc08",
        "part": "whole"
       },
       "id": "4b606bbc-eb5c-4db4-af25-9a540ad24f1e"
      }
     }
    },
    "921339cc-4e8c-42ad-9ed3-e4c7fd56bc22": {
     "id": "921339cc-4e8c-42ad-9ed3-e4c7fd56bc22",
     "prev": "813e4252-4037-429a-9801-54976ca3c73b",
     "regions": {
      "a42cb811-c2bb-48a4-bc87-6f108a2118c1": {
       "attrs": {
        "height": 0.8,
        "width": 0.8,
        "x": 0.1,
        "y": 0.1
       },
       "content": {
        "cell": "2bbea28e-b041-45c0-a5f3-eec36ec54aac",
        "part": "whole"
       },
       "id": "a42cb811-c2bb-48a4-bc87-6f108a2118c1"
      }
     }
    },
    "95ab248d-43d9-47d7-92d6-bb1c4db22e0a": {
     "id": "95ab248d-43d9-47d7-92d6-bb1c4db22e0a",
     "prev": "eb443db7-7429-47b0-8c0d-230b8f9eaa10",
     "regions": {
      "10db8214-0e00-426b-a082-89c1f46810ff": {
       "attrs": {
        "height": 0.8,
        "width": 0.8,
        "x": 0.1,
        "y": 0.1
       },
       "content": {
        "cell": "3b47dd68-161b-4557-8526-217b7d6e0798",
        "part": "whole"
       },
       "id": "10db8214-0e00-426b-a082-89c1f46810ff"
      }
     }
    },
    "95f812dc-2e8c-4fb1-b037-559042ea09e6": {
     "id": "95f812dc-2e8c-4fb1-b037-559042ea09e6",
     "prev": "dc4e3cd1-ffcf-4359-a48a-d206820bee77",
     "regions": {
      "a7b12059-1499-41bf-85bc-74bf3f151c38": {
       "attrs": {
        "height": 0.8,
        "width": 0.8,
        "x": 0.1,
        "y": 0.1
       },
       "content": {
        "cell": "c1453c41-168e-4826-a193-3450b26e3196",
        "part": "whole"
       },
       "id": "a7b12059-1499-41bf-85bc-74bf3f151c38"
      }
     }
    },
    "a2646ba7-620d-4bfd-b08d-9a5f1620aece": {
     "id": "a2646ba7-620d-4bfd-b08d-9a5f1620aece",
     "prev": "8c1638bb-ff28-4e04-89af-d83c44ceab90",
     "regions": {
      "95300b51-7f36-4b59-abf3-d7a4e4493bb1": {
       "attrs": {
        "height": 0.8,
        "width": 0.8,
        "x": 0.1,
        "y": 0.1
       },
       "content": {
        "cell": "a45f5e02-bf4d-4bf3-bc60-b3ca8ff0e635",
        "part": "whole"
       },
       "id": "95300b51-7f36-4b59-abf3-d7a4e4493bb1"
      }
     }
    },
    "b9f1c92e-5288-4a18-9756-e9cc07c1fa8d": {
     "id": "b9f1c92e-5288-4a18-9756-e9cc07c1fa8d",
     "prev": "583e60df-ce6c-4797-900e-e5890d116282",
     "regions": {
      "b2aa9606-2914-4a5b-9aa0-e5164faafa59": {
       "attrs": {
        "height": 0.8,
        "width": 0.8,
        "x": 0.1,
        "y": 0.1
       },
       "content": {
        "cell": "0208dde4-da98-4116-b0ae-f06bed40ece8",
        "part": "whole"
       },
       "id": "b2aa9606-2914-4a5b-9aa0-e5164faafa59"
      }
     }
    },
    "c06ea856-fe34-4c37-b07c-a0b1559bae09": {
     "id": "c06ea856-fe34-4c37-b07c-a0b1559bae09",
     "prev": "0cd4df37-4316-4e3f-8567-197266813187",
     "regions": {
      "f264d995-c2f2-404e-82af-6e667c8332e8": {
       "attrs": {
        "height": 0.8,
        "width": 0.8,
        "x": 0.1,
        "y": 0.1
       },
       "content": {
        "cell": "489f19a1-f761-4824-9976-26bdd4405988",
        "part": "whole"
       },
       "id": "f264d995-c2f2-404e-82af-6e667c8332e8"
      }
     }
    },
    "c4aaac9a-65a2-4667-9e1b-49137c80b89a": {
     "id": "c4aaac9a-65a2-4667-9e1b-49137c80b89a",
     "prev": "a2646ba7-620d-4bfd-b08d-9a5f1620aece",
     "regions": {
      "88ad701d-915a-4520-bf68-031aa3b370a3": {
       "attrs": {
        "height": 0.8,
        "width": 0.8,
        "x": 0.1,
        "y": 0.1
       },
       "content": {
        "cell": "6c05f121-0f76-4cdd-a206-2a661fbcc385",
        "part": "whole"
       },
       "id": "88ad701d-915a-4520-bf68-031aa3b370a3"
      }
     }
    },
    "cf6351cf-1e1e-4fae-b576-ce5817cf500a": {
     "id": "cf6351cf-1e1e-4fae-b576-ce5817cf500a",
     "prev": "eae9ab0e-34df-4d74-80e8-d4400a273bad",
     "regions": {
      "496703ea-4256-474c-bec4-496fc67163f8": {
       "attrs": {
        "height": 0.8,
        "width": 0.8,
        "x": 0.1,
        "y": 0.1
       },
       "content": {
        "cell": "0d19e5ce-cc5b-4b2c-ad23-2ebf7b719eda",
        "part": "whole"
       },
       "id": "496703ea-4256-474c-bec4-496fc67163f8"
      }
     }
    },
    "d0b4cfd7-a152-4d16-8624-e40afcb214d0": {
     "id": "d0b4cfd7-a152-4d16-8624-e40afcb214d0",
     "prev": "cf6351cf-1e1e-4fae-b576-ce5817cf500a",
     "regions": {
      "0d24c1a4-ab50-4da2-8af0-558df1d01153": {
       "attrs": {
        "height": 0.8,
        "width": 0.8,
        "x": 0.1,
        "y": 0.1
       },
       "content": {
        "cell": "50b438bc-eeb6-414a-a490-6e4bfcd96408",
        "part": "whole"
       },
       "id": "0d24c1a4-ab50-4da2-8af0-558df1d01153"
      }
     }
    },
    "d20b5d2d-3e67-4699-bc95-015b8d6cbe7e": {
     "id": "d20b5d2d-3e67-4699-bc95-015b8d6cbe7e",
     "prev": "4ac1b9c5-11b3-487c-ad98-eb81a82bbe4e",
     "regions": {
      "162925e2-aaf9-45a6-a91e-6d9ff6f9c77a": {
       "attrs": {
        "height": 0.8,
        "width": 0.8,
        "x": 0.1,
        "y": 0.1
       },
       "content": {
        "cell": "b472165d-5cfe-4354-ab57-f6bdf9b50319",
        "part": "whole"
       },
       "id": "162925e2-aaf9-45a6-a91e-6d9ff6f9c77a"
      }
     }
    },
    "d6f94617-d453-4be7-b9e8-4be4174fa478": {
     "id": "d6f94617-d453-4be7-b9e8-4be4174fa478",
     "prev": "e34d5501-cf1f-497f-8c6e-4568f5adf051",
     "regions": {
      "3e385b7e-c88e-480f-aa06-a425467371c6": {
       "attrs": {
        "height": 0.8,
        "width": 0.8,
        "x": 0.1,
        "y": 0.1
       },
       "content": {
        "cell": "508e35de-ed3b-4b49-b087-a02a636bd51e",
        "part": "whole"
       },
       "id": "3e385b7e-c88e-480f-aa06-a425467371c6"
      }
     }
    },
    "dc4e3cd1-ffcf-4359-a48a-d206820bee77": {
     "id": "dc4e3cd1-ffcf-4359-a48a-d206820bee77",
     "prev": "ef53f11f-d9ce-4b33-a66c-29003ed3509f",
     "regions": {
      "bcd15c14-1bfe-4c65-8b3f-1f848e9c2868": {
       "attrs": {
        "height": 0.8,
        "width": 0.8,
        "x": 0.1,
        "y": 0.1
       },
       "content": {
        "cell": "19ad2858-5dea-4a45-865d-913da39b2b9c",
        "part": "whole"
       },
       "id": "bcd15c14-1bfe-4c65-8b3f-1f848e9c2868"
      }
     }
    },
    "e2aa3879-4430-44f7-8969-f0a32f7afb85": {
     "id": "e2aa3879-4430-44f7-8969-f0a32f7afb85",
     "prev": "8770e4a6-23f3-49a6-a158-bdb29e4a2652",
     "regions": {
      "85907c7a-aa37-4651-b844-7ad2f08ccffc": {
       "attrs": {
        "height": 0.8,
        "width": 0.8,
        "x": 0.1,
        "y": 0.1
       },
       "content": {
        "cell": "1a363eee-069f-4563-ba5c-e2aa5891540a",
        "part": "whole"
       },
       "id": "85907c7a-aa37-4651-b844-7ad2f08ccffc"
      }
     }
    },
    "e34d5501-cf1f-497f-8c6e-4568f5adf051": {
     "id": "e34d5501-cf1f-497f-8c6e-4568f5adf051",
     "prev": "f21e1514-8397-48bb-8c47-f5bed6480d04",
     "regions": {
      "b5c86788-7b80-4a3e-b897-2b8072b921da": {
       "attrs": {
        "height": 0.8,
        "width": 0.8,
        "x": 0.1,
        "y": 0.1
       },
       "content": {
        "cell": "7816852e-5f2f-439b-9aa0-5580c332b791",
        "part": "whole"
       },
       "id": "b5c86788-7b80-4a3e-b897-2b8072b921da"
      }
     }
    },
    "e4fa8368-01d6-48f0-9d28-5b4a2a939047": {
     "id": "e4fa8368-01d6-48f0-9d28-5b4a2a939047",
     "prev": "e90ab81d-87ba-46c4-bfc4-56389ac8de8b",
     "regions": {
      "67ba77aa-f39c-4093-87a6-16c451169469": {
       "attrs": {
        "height": 0.8,
        "width": 0.8,
        "x": 0.1,
        "y": 0.1
       },
       "content": {
        "cell": "2071a87d-a94e-49b1-bf52-9740ac62fe35",
        "part": "whole"
       },
       "id": "67ba77aa-f39c-4093-87a6-16c451169469"
      }
     }
    },
    "e90ab81d-87ba-46c4-bfc4-56389ac8de8b": {
     "id": "e90ab81d-87ba-46c4-bfc4-56389ac8de8b",
     "prev": "7d016908-4858-4784-93be-cf3be55ceb77",
     "regions": {
      "4d746370-ea99-4800-898b-7e05cc6f66be": {
       "attrs": {
        "height": 0.8,
        "width": 0.8,
        "x": 0.1,
        "y": 0.1
       },
       "content": {
        "cell": "105f079f-3a82-4fb3-96d4-003f961d0933",
        "part": "whole"
       },
       "id": "4d746370-ea99-4800-898b-7e05cc6f66be"
      }
     }
    },
    "eae9ab0e-34df-4d74-80e8-d4400a273bad": {
     "id": "eae9ab0e-34df-4d74-80e8-d4400a273bad",
     "prev": null,
     "regions": {
      "a5587bd6-38d9-487f-ab25-461d2d81e3fc": {
       "attrs": {
        "height": 0.8,
        "width": 0.8,
        "x": 0.1,
        "y": 0.1
       },
       "content": {
        "cell": "12b65903-b5f6-41df-955d-9c0a7e9f05ca",
        "part": "whole"
       },
       "id": "a5587bd6-38d9-487f-ab25-461d2d81e3fc"
      }
     }
    },
    "eb443db7-7429-47b0-8c0d-230b8f9eaa10": {
     "id": "eb443db7-7429-47b0-8c0d-230b8f9eaa10",
     "prev": "412a160b-db2f-4289-bebc-e7f9187d75b3",
     "regions": {
      "d0c54b60-c533-40f7-9314-24ebb57a9d1f": {
       "attrs": {
        "height": 0.8,
        "width": 0.8,
        "x": 0.1,
        "y": 0.1
       },
       "content": {
        "cell": "a478c4aa-15fe-4a4a-b605-65810f1168a6",
        "part": "whole"
       },
       "id": "d0c54b60-c533-40f7-9314-24ebb57a9d1f"
      }
     }
    },
    "ef53f11f-d9ce-4b33-a66c-29003ed3509f": {
     "id": "ef53f11f-d9ce-4b33-a66c-29003ed3509f",
     "prev": "f27e6fac-b89a-44bb-b248-f7554b578715",
     "regions": {
      "d909349b-0c22-4b14-9036-b16275fd8b45": {
       "attrs": {
        "height": 0.8,
        "width": 0.8,
        "x": 0.1,
        "y": 0.1
       },
       "content": {
        "cell": "160933bd-f002-4917-8de6-35c030469f70",
        "part": "whole"
       },
       "id": "d909349b-0c22-4b14-9036-b16275fd8b45"
      }
     }
    },
    "f17844d0-c00f-44a5-895e-51714ba4859a": {
     "id": "f17844d0-c00f-44a5-895e-51714ba4859a",
     "prev": "95ab248d-43d9-47d7-92d6-bb1c4db22e0a",
     "regions": {
      "7fb90df5-7577-41cd-a01e-2ccd5f99424e": {
       "attrs": {
        "height": 0.8,
        "width": 0.8,
        "x": 0.1,
        "y": 0.1
       },
       "content": {
        "cell": "25542a57-1f80-40d3-a351-20ec28fd39fd",
        "part": "whole"
       },
       "id": "7fb90df5-7577-41cd-a01e-2ccd5f99424e"
      }
     }
    },
    "f21e1514-8397-48bb-8c47-f5bed6480d04": {
     "id": "f21e1514-8397-48bb-8c47-f5bed6480d04",
     "prev": "e4fa8368-01d6-48f0-9d28-5b4a2a939047",
     "regions": {
      "b5d57e29-da8e-4b26-a6fc-a7cc0c5286c4": {
       "attrs": {
        "height": 0.8,
        "width": 0.8,
        "x": 0.1,
        "y": 0.1
       },
       "content": {
        "cell": "6b1d98a8-4710-4e7f-94ab-2ebe907d3d21",
        "part": "whole"
       },
       "id": "b5d57e29-da8e-4b26-a6fc-a7cc0c5286c4"
      }
     }
    },
    "f27e6fac-b89a-44bb-b248-f7554b578715": {
     "id": "f27e6fac-b89a-44bb-b248-f7554b578715",
     "prev": "3b318d39-59d9-4989-97d4-ee6b4446b263",
     "regions": {
      "f8f509ff-85f6-4e9e-869e-7fd2ac4ba3f9": {
       "attrs": {
        "height": 0.8,
        "width": 0.8,
        "x": 0.1,
        "y": 0.1
       },
       "content": {
        "cell": "dba16f2f-e168-435a-872e-820c160d172f",
        "part": "whole"
       },
       "id": "f8f509ff-85f6-4e9e-869e-7fd2ac4ba3f9"
      }
     }
    },
    "f5e23b9c-3e5e-4f25-aeec-630f5a492f4b": {
     "id": "f5e23b9c-3e5e-4f25-aeec-630f5a492f4b",
     "prev": "5a7f4fbd-dff0-4890-9b9a-c5ceb353a559",
     "regions": {
      "c45dc0f7-0f8e-47ab-b8fa-9c4a0a4ab274": {
       "attrs": {
        "height": 0.8,
        "width": 0.8,
        "x": 0.1,
        "y": 0.1
       },
       "content": {
        "cell": "3cdc9cca-0621-4b18-b63e-cd41f2f4daf6",
        "part": "whole"
       },
       "id": "c45dc0f7-0f8e-47ab-b8fa-9c4a0a4ab274"
      }
     }
    }
   },
   "themes": {}
  }
 },
 "nbformat": 4,
 "nbformat_minor": 1
}
